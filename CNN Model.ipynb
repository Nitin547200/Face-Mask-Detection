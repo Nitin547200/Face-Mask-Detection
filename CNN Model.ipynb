{
 "cells": [
  {
   "cell_type": "code",
   "execution_count": 1,
   "metadata": {},
   "outputs": [],
   "source": [
    "import numpy as np\n",
    "\n",
    "data=np.load('data.npy')\n",
    "target=np.load('target.npy')\n"
   ]
  },
  {
   "cell_type": "code",
   "execution_count": 2,
   "metadata": {},
   "outputs": [
    {
     "name": "stderr",
     "output_type": "stream",
     "text": [
      "Using TensorFlow backend.\n"
     ]
    }
   ],
   "source": [
    "from keras.models import Sequential\n",
    "from keras.layers import Dense,Activation,Flatten,Dropout\n",
    "from keras.layers import Conv2D,MaxPooling2D\n",
    "from keras.callbacks import ModelCheckpoint\n"
   ]
  },
  {
   "cell_type": "code",
   "execution_count": 15,
   "metadata": {},
   "outputs": [],
   "source": [
    "model=Sequential()\n",
    "\n",
    "model.add(Conv2D(200,(3,3),input_shape=data.shape[1:]))\n",
    "model.add(Activation('relu'))\n",
    "model.add(MaxPooling2D(pool_size=(2,2)))\n",
    "\n",
    "model.add(Conv2D(100,(3,3),input_shape=data.shape[1:]))\n",
    "model.add(Activation('relu'))\n",
    "model.add(MaxPooling2D(pool_size=(2,2)))\n",
    "\n",
    "model.add(Flatten())\n",
    "model.add(Dropout(0.5))\n",
    "\n",
    "model.add(Dense(50,activation='relu'))\n",
    "model.add(Dense(2,activation='softmax'))\n",
    "\n",
    "model.compile(optimizer='adam',loss='categorical_crossentropy',metrics=['accuracy'])"
   ]
  },
  {
   "cell_type": "code",
   "execution_count": 23,
   "metadata": {},
   "outputs": [],
   "source": [
    "from sklearn.model_selection import train_test_split\n",
    "train_data,test_data,train_target_data,test_target_data=train_test_split(data,target,test_size=0.1)"
   ]
  },
  {
   "cell_type": "code",
   "execution_count": 24,
   "metadata": {
    "scrolled": true
   },
   "outputs": [
    {
     "name": "stdout",
     "output_type": "stream",
     "text": [
      "Epoch 1/20\n",
      "1238/1238 [==============================] - 84s 68ms/step - loss: 0.0742 - accuracy: 0.9798\n",
      "Epoch 2/20\n",
      "1238/1238 [==============================] - 79s 64ms/step - loss: 0.0448 - accuracy: 0.9855\n",
      "Epoch 3/20\n",
      "1238/1238 [==============================] - 64s 52ms/step - loss: 0.0286 - accuracy: 0.9919\n",
      "Epoch 4/20\n",
      "1238/1238 [==============================] - 70s 56ms/step - loss: 0.0225 - accuracy: 0.9927\n",
      "Epoch 5/20\n",
      "1238/1238 [==============================] - 77s 62ms/step - loss: 0.0202 - accuracy: 0.9943\n",
      "Epoch 6/20\n",
      "1238/1238 [==============================] - 93s 75ms/step - loss: 0.0225 - accuracy: 0.9935\n",
      "Epoch 7/20\n",
      "1238/1238 [==============================] - 106s 86ms/step - loss: 0.0295 - accuracy: 0.9895\n",
      "Epoch 8/20\n",
      "1238/1238 [==============================] - 91s 73ms/step - loss: 0.0145 - accuracy: 0.9952\n",
      "Epoch 9/20\n",
      "1238/1238 [==============================] - 72s 58ms/step - loss: 0.0169 - accuracy: 0.9960\n",
      "Epoch 10/20\n",
      "1238/1238 [==============================] - 66s 53ms/step - loss: 0.0188 - accuracy: 0.9927\n",
      "Epoch 11/20\n",
      "1238/1238 [==============================] - 65s 53ms/step - loss: 0.0208 - accuracy: 0.9935\n",
      "Epoch 12/20\n",
      "1238/1238 [==============================] - 66s 54ms/step - loss: 0.0131 - accuracy: 0.9984\n",
      "Epoch 13/20\n",
      "1238/1238 [==============================] - 69s 56ms/step - loss: 0.0096 - accuracy: 0.9976\n",
      "Epoch 14/20\n",
      "1238/1238 [==============================] - 67s 54ms/step - loss: 0.0097 - accuracy: 0.9968\n",
      "Epoch 15/20\n",
      "1238/1238 [==============================] - 67s 54ms/step - loss: 0.0099 - accuracy: 0.9976\n",
      "Epoch 16/20\n",
      "1238/1238 [==============================] - 68s 55ms/step - loss: 0.0085 - accuracy: 0.9976\n",
      "Epoch 17/20\n",
      "1238/1238 [==============================] - 66s 53ms/step - loss: 0.0084 - accuracy: 0.9976\n",
      "Epoch 18/20\n",
      "1238/1238 [==============================] - 65s 53ms/step - loss: 0.0063 - accuracy: 0.9984\n",
      "Epoch 19/20\n",
      "1238/1238 [==============================] - 68s 55ms/step - loss: 0.0075 - accuracy: 0.9976\n",
      "Epoch 20/20\n",
      "1238/1238 [==============================] - 65s 53ms/step - loss: 0.0077 - accuracy: 0.9968\n"
     ]
    },
    {
     "data": {
      "text/plain": [
       "<keras.callbacks.callbacks.History at 0x24c59497748>"
      ]
     },
     "execution_count": 24,
     "metadata": {},
     "output_type": "execute_result"
    }
   ],
   "source": [
    "model.fit(x=train_data,y=train_target_data,batch_size=100,epochs=20)"
   ]
  },
  {
   "cell_type": "code",
   "execution_count": 25,
   "metadata": {},
   "outputs": [
    {
     "name": "stdout",
     "output_type": "stream",
     "text": [
      "138/138 [==============================] - 3s 22ms/step\n"
     ]
    },
    {
     "data": {
      "text/plain": [
       "[0.026659995368074462, 0.9855072498321533]"
      ]
     },
     "execution_count": 25,
     "metadata": {},
     "output_type": "execute_result"
    }
   ],
   "source": [
    "model.evaluate(test_data,test_target_data)"
   ]
  },
  {
   "cell_type": "code",
   "execution_count": null,
   "metadata": {},
   "outputs": [],
   "source": []
  }
 ],
 "metadata": {
  "kernelspec": {
   "display_name": "Python 3",
   "language": "python",
   "name": "python3"
  },
  "language_info": {
   "codemirror_mode": {
    "name": "ipython",
    "version": 3
   },
   "file_extension": ".py",
   "mimetype": "text/x-python",
   "name": "python",
   "nbconvert_exporter": "python",
   "pygments_lexer": "ipython3",
   "version": "3.7.3"
  }
 },
 "nbformat": 4,
 "nbformat_minor": 2
}
